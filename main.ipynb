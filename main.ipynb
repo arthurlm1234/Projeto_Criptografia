{
 "cells": [
  {
   "cell_type": "markdown",
   "id": "bf1270b5",
   "metadata": {},
   "source": [
    "# Detecção de Intrusão com Privacidade Diferencial\n",
    "**Autores:** Julio Cesar Barbosa Machado, Arthur Linhares Madureira"
   ]
  },
  {
   "cell_type": "markdown",
   "id": "e82495de",
   "metadata": {},
   "source": [ 
    "## Introdução\n"
    "Este notebook apresenta a implementação e análise de um sistema de **"Detecção de Intrusões (IDS)"** utilizando o conjunto de dados **"NSL-KDD"**. Comparamos o desempenho de um modelo **"Multilayer Perceptron (MLP)"** convencional com uma versão treinada sob o regime de **"Privacidade Diferencial (DP)"**, utilizando o algoritmo **"DP-SGD"**.\n",
   ]
  },
  {
   "cell_type": "markdown",
   "id": "3db453eb",
   "metadata": {},
   "source": [
    "## Instalação de Dependências\n",
    "Instalamos as bibliotecas necessárias para o processamento de dados, treino de modelo e DP-SGD."
   ]
  },
  {
   "cell_type": "code",
   "execution_count": null,
   "id": "14ea749b",
   "metadata": {},
   "outputs": [],
   "source": [
    "!pip install pandas numpy scikit-learn torch opacus matplotlib"
   ]
  },
  {
   "cell_type": "markdown",
   "id": "23a20050",
   "metadata": {},
   "source": [
    "## Importação de Bibliotecas\n",
    "Importamos todas as dependências que serão usadas nas etapas seguintes."
   ]
  },
  {
   "cell_type": "code",
   "execution_count": 1,
   "id": "d96310cb",
   "metadata": {},
   "outputs": [],
   "source": [
    "import os\n",
    "import numpy as np\n",
    "import pandas as pd\n",
    "import matplotlib.pyplot as plt\n",
    "import torch\n",
    "from torch.utils.data import TensorDataset, DataLoader\n",
    "from opacus import PrivacyEngine\n",
    "from sklearn.preprocessing import OneHotEncoder, StandardScaler, LabelEncoder\n",
    "from sklearn.metrics import accuracy_score"
   ]
  },
  {
   "cell_type": "markdown",
   "id": "0e0ae8be",
   "metadata": {},
   "source": [
    "## Carregamento e Pré-processamento dos Dados\n",
    "Definimos uma função que lê os arquivos CSV do NSL-KDD, traduz rótulos não vistos para 'unknown', aplica OneHot Encoding em colunas categóricas, padroniza colunas numéricas e codifica rótulos."
   ]
  },
  {
   "cell_type": "code",
   "execution_count": 2,
   "id": "bef91526",
   "metadata": {},
   "outputs": [],
   "source": [
    "def load_preprocess(base_dir):\n",
    "    feature_file = os.path.join(base_dir, 'Field Names.csv')\n",
    "    feature_names = pd.read_csv(feature_file, header=None)[0].tolist()\n",
    "    cols = feature_names + ['attack', 'difficulty']\n",
    "    train = pd.read_csv(os.path.join(base_dir, 'KDDTrain+.csv'), names=cols, header=None)\n",
    "    test  = pd.read_csv(os.path.join(base_dir, 'KDDTest+.csv'),  names=cols, header=None)\n",
    "    seen_attacks = set(train['attack'])\n",
    "    test['attack'] = test['attack'].apply(lambda x: x if x in seen_attacks else 'unknown')\n",
    "    X_train, y_train = train[feature_names], train['attack']\n",
    "    X_test,  y_test  = test[feature_names],  test['attack']\n",
    "    cat_cols = X_train.select_dtypes(include=['object']).columns.tolist()\n",
    "    num_cols = X_train.select_dtypes(include=[np.number]).columns.tolist()\n",
    "    enc = OneHotEncoder(sparse_output=False, handle_unknown='ignore')\n",
    "    X_train_cat = enc.fit_transform(X_train[cat_cols])\n",
    "    X_test_cat  = enc.transform(X_test[cat_cols])\n",
    "    scaler = StandardScaler()\n",
    "    X_train_num = scaler.fit_transform(X_train[num_cols])\n",
    "    X_test_num  = scaler.transform(X_test[num_cols])\n",
    "    X_train_proc = np.hstack([X_train_num, X_train_cat])\n",
    "    X_test_proc  = np.hstack([X_test_num,  X_test_cat])\n",
    "    le = LabelEncoder()\n",
    "    y_train_enc = le.fit_transform(y_train)\n",
    "    classes = list(le.classes_) + (['unknown'] if 'unknown' not in le.classes_ else [])\n",
    "    le.classes_ = np.array(classes)\n",
    "    y_test_enc  = le.transform(y_test)\n",
    "    return X_train_proc, X_test_proc, y_train_enc, y_test_enc, classes"
   ]
  },
  {
   "cell_type": "code",
   "execution_count": 3,
   "id": "ea0565a8",
   "metadata": {},
   "outputs": [
    {
     "name": "stdout",
     "output_type": "stream",
     "text": [
      "Treino: (125973, 122), Teste: (22543, 122), Classes: 24\n"
     ]
    }
   ],
   "source": [
    "# Executar pré-processamento\n",
    "BASE_DIR = 'NSL_KDD'\n",
    "X_train, X_test, y_train, y_test, classes = load_preprocess(BASE_DIR)\n",
    "print(f'Treino: {X_train.shape}, Teste: {X_test.shape}, Classes: {len(classes)}')"
   ]
  },
  {
   "cell_type": "markdown",
   "id": "b3144d17",
   "metadata": {},
   "source": [
    "## Definição do Modelo MLP\n",
    "Criamos um MLP com uma camada oculta de 100 neurônios usando ReLU."
   ]
  },
  {
   "cell_type": "code",
   "execution_count": 4,
   "id": "c84a36a7",
   "metadata": {},
   "outputs": [],
   "source": [
    "def make_mlp(input_dim, num_classes, hidden_dim=100):\n",
    "    return torch.nn.Sequential(\n",
    "        torch.nn.Linear(input_dim, hidden_dim),\n",
    "        torch.nn.ReLU(),\n",
    "        torch.nn.Linear(hidden_dim, num_classes)\n",
    "    )"
   ]
  },
  {
   "cell_type": "markdown",
   "id": "2fe70a4f",
   "metadata": {},
   "source": [
    "## Treinamento Baseline (SGD sem DP)\n",
    "Treinamos o MLP padrão por 10 épocas. Apenas a acurácia final é exibida."
   ]
  },
  {
   "cell_type": "code",
   "execution_count": 5,
   "id": "b46ef84b",
   "metadata": {},
   "outputs": [],
   "source": [
    "def train_baseline(X_tr, y_tr, X_te, y_te, epochs=10, batch_size=256, lr=0.1):\n",
    "    model = make_mlp(X_tr.shape[1], len(classes))\n",
    "    optimizer = torch.optim.SGD(model.parameters(), lr=lr)\n",
    "    ds = TensorDataset(torch.tensor(X_tr, dtype=torch.float32), torch.tensor(y_tr, dtype=torch.long))\n",
    "    loader = DataLoader(ds, batch_size=batch_size, shuffle=True)\n",
    "    for _ in range(epochs):\n",
    "        model.train()\n",
    "        for xb, yb in loader: optimizer.zero_grad(); loss = torch.nn.functional.cross_entropy(model(xb), yb); loss.backward(); optimizer.step()\n",
    "    model.eval()\n",
    "    with torch.no_grad(): preds = model(torch.tensor(X_te, dtype=torch.float32)).argmax(dim=1).numpy()\n",
    "    return accuracy_score(y_te, preds)"
   ]
  },
  {
   "cell_type": "markdown",
   "id": "526be379",
   "metadata": {},
   "source": [
    "## Treinamento com DP-SGD\n",
    "Aplicamos DP-SGD usando Opacus: clipping de gradientes em 1.0 e ruído Gaussiano com multiplicador σ. Apenas métricas finais (acurácia e ε) são exibidas."
   ]
  },
  {
   "cell_type": "code",
   "execution_count": 8,
   "id": "ef9aa61a",
   "metadata": {},
   "outputs": [],
   "source": [
    "def train_dp_sgd(X_tr, y_tr, X_te, y_te, sigma, epochs=10, batch_size=256, lr=0.1, max_grad_norm=1.0, delta=1e-5):\n",
    "    model = make_mlp(X_tr.shape[1], len(classes))\n",
    "    optimizer = torch.optim.SGD(model.parameters(), lr=lr)\n",
    "    ds = TensorDataset(torch.tensor(X_tr, dtype=torch.float32), torch.tensor(y_tr, dtype=torch.long))\n",
    "    loader = DataLoader(ds, batch_size=batch_size, shuffle=True)\n",
    "    # Configurar PrivacyEngine para usar RDPAccountant apenas\n",
    "    engine = PrivacyEngine(accountant='rdp')\n",
    "    model, optimizer, loader = engine.make_private(module=model, optimizer=optimizer, data_loader=loader, noise_multiplier=sigma, max_grad_norm=max_grad_norm)\n",
    "    for _ in range(epochs):\n",
    "        model.train()\n",
    "        for xb, yb in loader: optimizer.zero_grad(); loss = torch.nn.functional.cross_entropy(model(xb), yb); loss.backward(); optimizer.step()\n",
    "    model.eval()\n",
    "    with torch.no_grad(): preds = model(torch.tensor(X_te, dtype=torch.float32)).argmax(dim=1).numpy()\n",
    "    acc = accuracy_score(y_te, preds)  # calcular acurácia\n",
    "    # Calcular epsilon usando somente ordens definidas para RDP\n",
    "    epsilon = engine.accountant.get_epsilon(delta=delta, alphas=[2,4,8,16,32])\n",
    "    return acc, epsilon"
   ]
  },
  {
   "cell_type": "markdown",
   "id": "d4b83b7f",
   "metadata": {},
   "source": [
    "## Avaliação e Visualização\n",
    "Executamos os treinamentos e exibimos métricas finais e gráficos do trade-off privacidade-utilidade."
   ]
  },
  {
   "cell_type": "code",
   "execution_count": null,
   "id": "a67f5143",
   "metadata": {},
   "outputs": [
    {
     "name": "stderr",
     "output_type": "stream",
     "text": [
      "/home/dtiigital/projeto_cripto/.venv/lib/python3.12/site-packages/opacus/privacy_engine.py:96: UserWarning: Secure RNG turned off. This is perfectly fine for experimentation as it allows for much faster training performance, but remember to turn it on and retrain one last time before production with ``secure_mode`` turned on.\n",
      "  warnings.warn(\n",
      "/home/dtiigital/projeto_cripto/.venv/lib/python3.12/site-packages/opacus/accountants/analysis/rdp.py:332: UserWarning: Optimal order is the smallest alpha. Please consider expanding the range of alphas to get a tighter privacy bound.\n",
      "  warnings.warn(\n",
      "/home/dtiigital/projeto_cripto/.venv/lib/python3.12/site-packages/opacus/privacy_engine.py:96: UserWarning: Secure RNG turned off. This is perfectly fine for experimentation as it allows for much faster training performance, but remember to turn it on and retrain one last time before production with ``secure_mode`` turned on.\n",
      "  warnings.warn(\n",
      "/home/dtiigital/projeto_cripto/.venv/lib/python3.12/site-packages/opacus/privacy_engine.py:96: UserWarning: Secure RNG turned off. This is perfectly fine for experimentation as it allows for much faster training performance, but remember to turn it on and retrain one last time before production with ``secure_mode`` turned on.\n",
      "  warnings.warn(\n",
      "/home/dtiigital/projeto_cripto/.venv/lib/python3.12/site-packages/opacus/accountants/analysis/rdp.py:332: UserWarning: Optimal order is the largest alpha. Please consider expanding the range of alphas to get a tighter privacy bound.\n",
      "  warnings.warn(\n",
      "/home/dtiigital/projeto_cripto/.venv/lib/python3.12/site-packages/opacus/privacy_engine.py:96: UserWarning: Secure RNG turned off. This is perfectly fine for experimentation as it allows for much faster training performance, but remember to turn it on and retrain one last time before production with ``secure_mode`` turned on.\n",
      "  warnings.warn(\n"
     ]
    },
    {
     "name": "stdout",
     "output_type": "stream",
     "text": [
      "Baseline Accuracy: 0.6999\n",
      "σ=0.1: Accuracy=0.6786, ε=431873.11\n",
      "σ=1.0: Accuracy=0.6803, ε=1.36\n",
      "σ=2.0: Accuracy=0.6800, ε=0.32\n",
      "σ=5.0: Accuracy=0.6807, ε=0.24\n"
     ]
    },
    {
     "name": "stderr",
     "output_type": "stream",
     "text": [
      "/home/dtiigital/projeto_cripto/.venv/lib/python3.12/site-packages/opacus/accountants/analysis/rdp.py:332: UserWarning: Optimal order is the largest alpha. Please consider expanding the range of alphas to get a tighter privacy bound.\n",
      "  warnings.warn(\n"
     ]
    },
    {
     "data": {
      "image/png": "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",
      "text/plain": [
       "<Figure size 640x480 with 1 Axes>"
      ]
     },
     "metadata": {},
     "output_type": "display_data"
    },
    {
     "data": {
      "image/png": "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",
      "text/plain": [
       "<Figure size 640x480 with 1 Axes>"
      ]
     },
     "metadata": {},
     "output_type": "display_data"
    }
   ],
   "source": [
    "sigma = 1.0\n",
    "\n",
    "# Treinamento sem privacidade diferencial\n",
    "acc_base = train_baseline(X_train, y_train, X_test, y_test)\n",
    "\n",
    "# Treinamento com DP-SGD usando sigma = 1.0\n",
    "acc_dp, eps_dp = train_dp_sgd(X_train, y_train, X_test, y_test, sigma)\n",
    "\n",
    "# Impressão dos resultados\n",
    "print(f'Baseline Accuracy: {acc_base:.4f}')\n",
    "print(f'σ={sigma}: Accuracy={acc_dp:.4f}, ε={eps_dp:.2f}')"
   ]
  },
  {
   "cell_type": "markdown",
   "id": "f4cb9dd5",
   "metadata": {},
   "source": [
    "## Conclusão\n",
    "Nesta seção final, sintetizamos e interpretamos os principais achados do nosso estudo, apoiando-nos nos resultados empíricos obtidos e comparando-os com as descobertas clássicas do artigo **“Deep Learning with Differential Privacy”** de Abadi et al. (2016). Demonstramos que a adoção do DP-SGD, mesmo em cenários de alta dimensionalidade como o NSL-KDD, impõe apenas uma penalidade baixa à acurácia, confirmando as observações iniciais de Abadi e colaboradores."
   ]
  }
 ],
 "metadata": {
  "kernelspec": {
   "display_name": ".venv",
   "language": "python",
   "name": "python3"
  },
  "language_info": {
   "codemirror_mode": {
    "name": "ipython",
    "version": 3
   },
   "file_extension": ".py",
   "mimetype": "text/x-python",
   "name": "python",
   "nbconvert_exporter": "python",
   "pygments_lexer": "ipython3",
   "version": "3.12.3"
  }
 },
 "nbformat": 4,
 "nbformat_minor": 5
}
